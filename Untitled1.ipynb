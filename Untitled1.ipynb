{
  "nbformat": 4,
  "nbformat_minor": 0,
  "metadata": {
    "colab": {
      "provenance": [],
      "authorship_tag": "ABX9TyOmkAVRiPpQ+c6jLjj0mjw/",
      "include_colab_link": true
    },
    "kernelspec": {
      "name": "python3",
      "display_name": "Python 3"
    },
    "language_info": {
      "name": "python"
    }
  },
  "cells": [
    {
      "cell_type": "markdown",
      "metadata": {
        "id": "view-in-github",
        "colab_type": "text"
      },
      "source": [
        "<a href=\"https://colab.research.google.com/github/Alex6706/Alex6706.github.io/blob/main/Untitled1.ipynb\" target=\"_parent\"><img src=\"https://colab.research.google.com/assets/colab-badge.svg\" alt=\"Open In Colab\"/></a>"
      ]
    },
    {
      "cell_type": "code",
      "execution_count": 3,
      "metadata": {
        "id": "TO7Z8nJpGepi"
      },
      "outputs": [],
      "source": [
        "import pandas as pd"
      ]
    },
    {
      "cell_type": "code",
      "source": [
        "df =pd.read_csv('sample_data/california_housing_test.csv')"
      ],
      "metadata": {
        "id": "pzMkiCcAHCx5"
      },
      "execution_count": 4,
      "outputs": []
    },
    {
      "cell_type": "markdown",
      "source": [
        "ДЗ Задача 40: Работать с файлом california_housing_train.csv, который находится в папке sample_data. Определить среднюю стоимость дома, где кол-во людей от 0 до 500 (population)"
      ],
      "metadata": {
        "id": "7Bi-SuHsGl7N"
      }
    },
    {
      "cell_type": "code",
      "source": [
        "df[df['population']<= 500].mean()['median_house_value']"
      ],
      "metadata": {
        "colab": {
          "base_uri": "https://localhost:8080/"
        },
        "id": "q1p3dKlWGpNH",
        "outputId": "149f89a3-96f0-4d78-ccf2-c00e97ace103"
      },
      "execution_count": 6,
      "outputs": [
        {
          "output_type": "execute_result",
          "data": {
            "text/plain": [
              "206799.95140186916"
            ]
          },
          "metadata": {},
          "execution_count": 6
        }
      ]
    },
    {
      "cell_type": "markdown",
      "source": [
        "Задача 42: Узнать какая максимальная households в зоне минимального значения population"
      ],
      "metadata": {
        "id": "R__3ueToHjVU"
      }
    },
    {
      "cell_type": "code",
      "source": [
        "df[df['population'] == df['population'].min()]['households'].max()"
      ],
      "metadata": {
        "colab": {
          "base_uri": "https://localhost:8080/"
        },
        "id": "EG_xqIeEHufI",
        "outputId": "b679c511-fdd9-44ac-b936-d59a52ce42c3"
      },
      "execution_count": 7,
      "outputs": [
        {
          "output_type": "execute_result",
          "data": {
            "text/plain": [
              "4.0"
            ]
          },
          "metadata": {},
          "execution_count": 7
        }
      ]
    }
  ]
}