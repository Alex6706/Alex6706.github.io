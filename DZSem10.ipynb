{
  "nbformat": 4,
  "nbformat_minor": 0,
  "metadata": {
    "colab": {
      "provenance": [],
      "authorship_tag": "ABX9TyP88gKX+kDQK7TE5UPdchuX",
      "include_colab_link": true
    },
    "kernelspec": {
      "name": "python3",
      "display_name": "Python 3"
    },
    "language_info": {
      "name": "python"
    }
  },
  "cells": [
    {
      "cell_type": "markdown",
      "metadata": {
        "id": "view-in-github",
        "colab_type": "text"
      },
      "source": [
        "<a href=\"https://colab.research.google.com/github/Alex6706/Alex6706.github.io/blob/main/DZSem10.ipynb\" target=\"_parent\"><img src=\"https://colab.research.google.com/assets/colab-badge.svg\" alt=\"Open In Colab\"/></a>"
      ]
    },
    {
      "cell_type": "code",
      "execution_count": null,
      "metadata": {
        "id": "OY2qvwcuXNW3"
      },
      "outputs": [],
      "source": []
    },
    {
      "cell_type": "markdown",
      "source": [
        "Задание 44 |\n",
        "| --- |\n",
        "| В ячейке ниже представлен код генерирующий DataFrame, которая состоит всего из 1 столбца. \n",
        "Ваша задача перевести его в one hot вид. Сможете ли вы это сделать без get_dummies?\n"
      ],
      "metadata": {
        "id": "4aaYZTyWXTOb"
      }
    },
    {
      "cell_type": "code",
      "source": [
        "import pandas as pd\n",
        "import random "
      ],
      "metadata": {
        "id": "addCxBxpXcQG"
      },
      "execution_count": 1,
      "outputs": []
    },
    {
      "cell_type": "code",
      "source": [
        "lst = ['robot']*10\n",
        "lst += ['human']*10\n",
        "random.shuffle(lst)"
      ],
      "metadata": {
        "id": "9ZZNNMKbXuN8"
      },
      "execution_count": 2,
      "outputs": []
    },
    {
      "cell_type": "code",
      "source": [
        "df = pd.DataFrame({'whoAmI':lst})\n",
        "print(df['whoAmI'])\n",
        "def onehot_maker(type):\n",
        "    if type == 'robot':\n",
        "        return 0 \n",
        "    else: \n",
        "        return 1\n",
        "\n",
        "df['whoAmI'] = df['whoAmI'].apply(onehot_maker)\n",
        "print(df['whoAmI'])"
      ],
      "metadata": {
        "colab": {
          "base_uri": "https://localhost:8080/"
        },
        "id": "YoMy2J6TXxgV",
        "outputId": "29023fa1-fe8e-4ebe-ffef-32415d1c68ff"
      },
      "execution_count": 6,
      "outputs": [
        {
          "output_type": "stream",
          "name": "stdout",
          "text": [
            "0     robot\n",
            "1     robot\n",
            "2     robot\n",
            "3     robot\n",
            "4     robot\n",
            "5     robot\n",
            "6     robot\n",
            "7     human\n",
            "8     robot\n",
            "9     human\n",
            "10    robot\n",
            "11    human\n",
            "12    human\n",
            "13    human\n",
            "14    human\n",
            "15    human\n",
            "16    robot\n",
            "17    human\n",
            "18    human\n",
            "19    human\n",
            "Name: whoAmI, dtype: object\n",
            "0     0\n",
            "1     0\n",
            "2     0\n",
            "3     0\n",
            "4     0\n",
            "5     0\n",
            "6     0\n",
            "7     1\n",
            "8     0\n",
            "9     1\n",
            "10    0\n",
            "11    1\n",
            "12    1\n",
            "13    1\n",
            "14    1\n",
            "15    1\n",
            "16    0\n",
            "17    1\n",
            "18    1\n",
            "19    1\n",
            "Name: whoAmI, dtype: int64\n"
          ]
        }
      ]
    }
  ]
}